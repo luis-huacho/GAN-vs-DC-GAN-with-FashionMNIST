{
 "cells": [
  {
   "cell_type": "markdown",
   "metadata": {
    "id": "header"
   },
   "source": [
    "# 🎯 GAN vs DC-GAN en Fashion-MNIST\n",
    "\n",
    "Comparación de arquitecturas GAN clásica y DC-GAN aplicadas al dataset Fashion-MNIST.\n",
    "\n",
    "**Objetivos:**\n",
    "- Implementar y entrenar ambas arquitecturas\n",
    "- Comparar calidad visual y estabilidad\n",
    "- Evaluar métricas objetivas\n",
    "\n",
    "**Tiempo estimado:** 30-45 minutos en GPU"
   ]
  },
  {
   "cell_type": "markdown",
   "metadata": {
    "id": "setup"
   },
   "source": [
    "## 🔧 Configuración Inicial"
   ]
  },
  {
   "cell_type": "code",
   "execution_count": null,
   "metadata": {
    "id": "install"
   },
   "outputs": [],
   "source": [
    "# Instalar dependencias\n",
    "!pip install torch torchvision matplotlib numpy scipy scikit-learn seaborn tqdm\n",
    "\n",
    "# Verificar GPU\n",
    "import torch\n",
    "print(f'GPU disponible: {torch.cuda.is_available()}')\n",
    "if torch.cuda.is_available():\n",
    "    print(f'GPU: {torch.cuda.get_device_name(0)}')"
   ]
  },
  {
   "cell_type": "code",
   "execution_count": null,
   "metadata": {
    "id": "imports"
   },
   "outputs": [],
   "source": [
    "# Importaciones principales\n",
    "import torch\n",
    "import torch.nn as nn\n",
    "import torch.optim as optim\n",
    "import torchvision\n",
    "import torchvision.transforms as transforms\n",
    "from torch.utils.data import DataLoader\n",
    "import matplotlib.pyplot as plt\n",
    "import numpy as np\n",
    "from tqdm import tqdm\n",
    "\n",
    "# Configuración\n",
    "device = torch.device('cuda' if torch.cuda.is_available() else 'cpu')\n",
    "torch.manual_seed(42)\n",
    "np.random.seed(42)\n",
    "\n",
    "print(f'Dispositivo: {device}')"
   ]
  },
  {
   "cell_type": "markdown",
   "metadata": {
    "id": "data"
   },
   "source": [
    "## 📊 Carga de Datos"
   ]
  },
  {
   "cell_type": "code",
   "execution_count": null,
   "metadata": {
    "id": "load_data"
   },
   "outputs": [],
   "source": [
    "# Cargar Fashion-MNIST\n",
    "transform = transforms.Compose([\n",
    "    transforms.ToTensor(),\n",
    "    transforms.Normalize((0.5,), (0.5,))\n",
    "])\n",
    "\n",
    "dataset = torchvision.datasets.FashionMNIST(\n",
    "    root='./data', train=True, download=True, transform=transform\n",
    ")\n",
    "\n",
    "dataloader = DataLoader(dataset, batch_size=64, shuffle=True)\n",
    "\n",
    "print(f'Dataset cargado: {len(dataset)} imágenes')\n",
    "\n",
    "# Mostrar muestras\n",
    "examples = iter(dataloader)\n",
    "example_data, example_targets = next(examples)\n",
    "\n",
    "fig, axes = plt.subplots(2, 5, figsize=(12, 6))\n",
    "for i in range(10):\n",
    "    row, col = i // 5, i % 5\n",
    "    img = (example_data[i] + 1) / 2  # Desnormalizar\n",
    "    axes[row, col].imshow(img.squeeze(), cmap='gray')\n",
    "    axes[row, col].set_title(f'Clase: {example_targets[i]}')\n",
    "    axes[row, col].axis('off')\n",
    "plt.suptitle('Muestras de Fashion-MNIST')\n",
    "plt.show()"
   ]
  },
  {
   "cell_type": "markdown",
   "metadata": {
    "id": "models"
   },
   "source": [
    "## 🧠 Definición de Modelos"
   ]
  },
  {
   "cell_type": "code",
   "execution_count": null,
   "metadata": {
    "id": "mlp_models"
   },
   "outputs": [],
   "source": [
    "# Pegue aquí el código de las clases MLPGenerator y MLPDiscriminator del archivo principal"
   ]
  },
  {
   "cell_type": "code",
   "execution_count": null,
   "metadata": {
    "id": "dc_models"
   },
   "outputs": [],
   "source": [
    "# Pegue aquí el código de las clases DCGenerator y DCDiscriminator del archivo principal"
   ]
  },
  {
   "cell_type": "markdown",
   "metadata": {
    "id": "training"
   },
   "source": [
    "## 🏋️ Entrenamiento"
   ]
  },
  {
   "cell_type": "code",
   "execution_count": null,
   "metadata": {
    "id": "train_mlp"
   },
   "outputs": [],
   "source": [
    "# Entrenar MLP-GAN\n",
    "print('=== Entrenando MLP-GAN ===')\n",
    "# Pegue aquí la función de entrenamiento adaptada"
   ]
  },
  {
   "cell_type": "code",
   "execution_count": null,
   "metadata": {
    "id": "train_dc"
   },
   "outputs": [],
   "source": [
    "# Entrenar DC-GAN\n",
    "print('=== Entrenando DC-GAN ===')\n",
    "# Pegue aquí la función de entrenamiento adaptada"
   ]
  },
  {
   "cell_type": "markdown",
   "metadata": {
    "id": "results"
   },
   "source": [
    "## 📈 Resultados y Comparación"
   ]
  },
  {
   "cell_type": "code",
   "execution_count": null,
   "metadata": {
    "id": "comparison"
   },
   "outputs": [],
   "source": [
    "# Comparación visual\n",
    "# Generar y mostrar imágenes de ambos modelos"
   ]
  }
 ],
 "metadata": {
  "accelerator": "GPU",
  "colab": {
   "gpuType": "T4",
   "provenance": []
  },
  "kernelspec": {
   "display_name": "Python 3",
   "name": "python3"
  },
  "language_info": {
   "name": "python"
  }
 },
 "nbformat": 4,
 "nbformat_minor": 0
}